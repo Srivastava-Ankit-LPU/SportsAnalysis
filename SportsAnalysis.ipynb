{
 "cells": [
  {
   "cell_type": "markdown",
   "metadata": {
    "id": "8GjtufvU14dH"
   },
   "source": [
    "# Who is the next Sunil Chhetri?\n",
    "\n",
    "We will use the data from the past two ISL seasons and compare the attributes of Chhetri with other strikers in Indian Football to see who is capable of replacing him."
   ]
  },
  {
   "cell_type": "markdown",
   "metadata": {
    "id": "QBjkkDJSMo5S"
   },
   "source": [
    "## Read and explore the data"
   ]
  },
  {
   "cell_type": "code",
   "execution_count": 1,
   "metadata": {
    "id": "dxrPWD7KdG4o"
   },
   "outputs": [
    {
     "ename": "ModuleNotFoundError",
     "evalue": "No module named 'google'",
     "output_type": "error",
     "traceback": [
      "\u001b[1;31m---------------------------------------------------------------------------\u001b[0m",
      "\u001b[1;31mModuleNotFoundError\u001b[0m                       Traceback (most recent call last)",
      "\u001b[1;32m~\\AppData\\Local\\Temp\\ipykernel_22424\\2490970116.py\u001b[0m in \u001b[0;36m<module>\u001b[1;34m\u001b[0m\n\u001b[0;32m      4\u001b[0m \u001b[1;32mimport\u001b[0m \u001b[0mpandas\u001b[0m \u001b[1;32mas\u001b[0m \u001b[0mpd\u001b[0m\u001b[1;33m\u001b[0m\u001b[1;33m\u001b[0m\u001b[0m\n\u001b[0;32m      5\u001b[0m \u001b[1;32mfrom\u001b[0m \u001b[0mcopy\u001b[0m \u001b[1;32mimport\u001b[0m \u001b[0mdeepcopy\u001b[0m\u001b[1;33m\u001b[0m\u001b[1;33m\u001b[0m\u001b[0m\n\u001b[1;32m----> 6\u001b[1;33m \u001b[1;32mfrom\u001b[0m \u001b[0mgoogle\u001b[0m\u001b[1;33m.\u001b[0m\u001b[0mcolab\u001b[0m \u001b[1;32mimport\u001b[0m \u001b[0mfiles\u001b[0m\u001b[1;33m\u001b[0m\u001b[1;33m\u001b[0m\u001b[0m\n\u001b[0m",
      "\u001b[1;31mModuleNotFoundError\u001b[0m: No module named 'google'"
     ]
    }
   ],
   "source": [
    "# Import required libraries:\n",
    "import io\n",
    "import numpy as np\n",
    "import pandas as pd\n",
    "from copy import deepcopy\n",
    "from google.colab import files"
   ]
  },
  {
   "cell_type": "code",
   "execution_count": null,
   "metadata": {
    "id": "_dgCE2HAMCtz"
   },
   "outputs": [],
   "source": [
    "# Import plotting libraries\n",
    "import matplotlib.pyplot as plt\n",
    "import seaborn as sns\n",
    "import plotly.express as px"
   ]
  },
  {
   "cell_type": "code",
   "execution_count": null,
   "metadata": {
    "id": "A6Z4CQd2LM4b"
   },
   "outputs": [],
   "source": [
    "uploaded = files.upload()"
   ]
  },
  {
   "cell_type": "code",
   "execution_count": null,
   "metadata": {
    "id": "Yc3PXx4iL6NY"
   },
   "outputs": [],
   "source": [
    "isl_df = pd.read_csv(io.BytesIO(uploaded['isl_player_final.csv']))\n",
    "isl_df"
   ]
  },
  {
   "cell_type": "code",
   "execution_count": null,
   "metadata": {
    "id": "1s2O2rSn2NFj"
   },
   "outputs": [],
   "source": [
    "isl_df.info()"
   ]
  },
  {
   "cell_type": "code",
   "execution_count": null,
   "metadata": {
    "id": "Fcnx7pGz2gq3"
   },
   "outputs": [],
   "source": [
    "isl_df.describe().round(1)"
   ]
  },
  {
   "cell_type": "code",
   "execution_count": null,
   "metadata": {
    "id": "1pRyxArxwC8Y"
   },
   "outputs": [],
   "source": [
    "isl_df[(isl_df[\"minutes_played\"] > 1500) & (isl_df[\"country_id\"] == 1)].shape"
   ]
  },
  {
   "cell_type": "code",
   "execution_count": null,
   "metadata": {
    "id": "myBmZC2YUIno"
   },
   "outputs": [],
   "source": [
    "isl_df[(isl_df[\"country_id\"] == 1) & (isl_df[\"position_id\"] == 2)]"
   ]
  },
  {
   "cell_type": "code",
   "execution_count": null,
   "metadata": {
    "id": "hvdaGF0Q0LFK"
   },
   "outputs": [],
   "source": [
    "indian_forwards = deepcopy(isl_df[(isl_df[\"country_id\"] == 1) & (isl_df[\"position_id\"] == 2)])"
   ]
  },
  {
   "cell_type": "code",
   "execution_count": null,
   "metadata": {
    "id": "IErBTS48N7A4"
   },
   "outputs": [],
   "source": [
    "indian_forwards.reset_index(drop=True, inplace=True)"
   ]
  },
  {
   "cell_type": "code",
   "execution_count": null,
   "metadata": {
    "id": "FFGQL1fL53YN"
   },
   "outputs": [],
   "source": [
    "indian_forwards[indian_forwards[\"name\"].str.contains(\"Singh\")]"
   ]
  },
  {
   "cell_type": "markdown",
   "metadata": {
    "id": "MMLQx8lJMzjP"
   },
   "source": [
    "## Level the playing field\n",
    "\n",
    "Why do we need this?"
   ]
  },
  {
   "cell_type": "code",
   "execution_count": null,
   "metadata": {
    "id": "2OGH5nE5OPuI"
   },
   "outputs": [],
   "source": [
    "fwd_mins_df = indian_forwards.groupby([\"id\", \"name\"])[\"minutes_played\"].sum().reset_index()"
   ]
  },
  {
   "cell_type": "code",
   "execution_count": null,
   "metadata": {
    "id": "Y09GFAV3OCCv"
   },
   "outputs": [],
   "source": [
    "px.bar(x=\"name\", y=\"minutes_played\", text=\"minutes_played\", data_frame=fwd_mins_df)"
   ]
  },
  {
   "cell_type": "code",
   "execution_count": null,
   "metadata": {
    "id": "1I_lPNXS8GIt"
   },
   "outputs": [],
   "source": [
    "indian_forwards[\"goalsPer90\"] = indian_forwards[\"events.goals\"].divide(indian_forwards[\"minutes_played\"]).multiply(90)"
   ]
  },
  {
   "cell_type": "code",
   "execution_count": null,
   "metadata": {
    "id": "OHwWCVYnNnT8"
   },
   "outputs": [],
   "source": [
    "indian_forwards = indian_forwards[indian_forwards[\"minutes_played\"] > 0]"
   ]
  },
  {
   "cell_type": "code",
   "execution_count": null,
   "metadata": {
    "id": "ktGPWwsl8YJH"
   },
   "outputs": [],
   "source": [
    "indian_forwards[\"assistsPer90\"] = indian_forwards[\"events.assists\"].divide(indian_forwards[\"minutes_played\"]).multiply(90)\n",
    "indian_forwards[\"shots_on_targetPer90\"] = indian_forwards[\"events.shots_on_target\"].divide(indian_forwards[\"minutes_played\"]).multiply(90)"
   ]
  },
  {
   "cell_type": "code",
   "execution_count": null,
   "metadata": {
    "id": "i2JxUTCGLAhM"
   },
   "outputs": [],
   "source": [
    "per90Cols = [\"events.goals\", \"events.assists\", \"events.shots\", \"events.shots_on_target\", \"events.chances_created\",\n",
    "             \"events.fouls_suffered\", \"touches.total\", 'touches.aerial_duel.won']\n",
    "for col in per90Cols:\n",
    "    indian_forwards[col + \"Per90\"] = indian_forwards[col].divide(indian_forwards[\"minutes_played\"]).multiply(90)"
   ]
  },
  {
   "cell_type": "code",
   "execution_count": null,
   "metadata": {
    "id": "n29DL2A8YjfN"
   },
   "outputs": [],
   "source": [
    "cols_for_radar = []\n",
    "for i in per90Cols:\n",
    "    cols_for_radar.append(i + \"Per90\")\n",
    "print(cols_for_radar)"
   ]
  },
  {
   "cell_type": "code",
   "execution_count": null,
   "metadata": {
    "id": "coz_idFEM1-K"
   },
   "outputs": [],
   "source": [
    "# Use list comprehension\n",
    "[i + \"Per90\" for i in per90Cols]"
   ]
  },
  {
   "cell_type": "code",
   "execution_count": null,
   "metadata": {
    "id": "jmOQA4nJ5dke"
   },
   "outputs": [],
   "source": [
    "cols_for_radar = [i + \"Per90\" for i in per90Cols]\n",
    "print(cols_for_radar)"
   ]
  },
  {
   "cell_type": "code",
   "execution_count": null,
   "metadata": {
    "id": "H7fNR3Pj6R_0"
   },
   "outputs": [],
   "source": [
    "indian_forwards.loc[(indian_forwards[\"id\"] == 19150), cols_for_radar].sum()"
   ]
  },
  {
   "cell_type": "markdown",
   "metadata": {
    "id": "y79HIfeiOvHK"
   },
   "source": [
    "## Chhetri's Performance\n",
    "\n",
    "Let's use some key metrics to assess Chhetri's performance"
   ]
  },
  {
   "cell_type": "markdown",
   "metadata": {
    "id": "Buk6iAdUafKh"
   },
   "source": [
    "### What is a Radar Plot?\n",
    "\n",
    "r --> All the values in the Radar Plot\n",
    "\n",
    "theta --> All the labels in the Radar Plot"
   ]
  },
  {
   "cell_type": "code",
   "execution_count": null,
   "metadata": {
    "id": "mO4_W5HUaTb4"
   },
   "outputs": [],
   "source": [
    "df = pd.DataFrame(dict(\n",
    "    r=[1, 5, 2, 2, 3],\n",
    "    theta=['processing cost','mechanical properties','chemical stability',\n",
    "           'thermal stability', 'device integration']))\n",
    "fig = px.line_polar(df, r='r', theta='theta', line_close=True)\n",
    "fig.show()"
   ]
  },
  {
   "cell_type": "markdown",
   "metadata": {
    "id": "0tVf3inVapfU"
   },
   "source": [
    "### Radar Plot for Chhetri's performance"
   ]
  },
  {
   "cell_type": "code",
   "execution_count": null,
   "metadata": {
    "id": "lCVRo-j6cScB"
   },
   "outputs": [],
   "source": [
    "indian_forwards.loc[(indian_forwards[\"id\"] == 19150), cols_for_radar].sum()"
   ]
  },
  {
   "cell_type": "code",
   "execution_count": null,
   "metadata": {
    "id": "EQGPhaWs4Twv"
   },
   "outputs": [],
   "source": [
    "fig = px.line_polar(indian_forwards, r=indian_forwards.loc[(indian_forwards[\"id\"] == 19150), cols_for_radar].sum(),\n",
    "                    theta=cols_for_radar, line_close=True)\n",
    "fig.update_traces(fill='toself')\n",
    "fig.show()"
   ]
  },
  {
   "cell_type": "markdown",
   "metadata": {
    "id": "ZEE-6SBraxPD"
   },
   "source": [
    "### Normalization of Values"
   ]
  },
  {
   "cell_type": "code",
   "execution_count": null,
   "metadata": {
    "id": "CprH7mmtNck8"
   },
   "outputs": [],
   "source": [
    "from sklearn.preprocessing import MinMaxScaler\n",
    "scaler = MinMaxScaler()\n",
    "indian_forwards[cols_for_radar] = scaler.fit_transform(indian_forwards[cols_for_radar])"
   ]
  },
  {
   "cell_type": "code",
   "execution_count": null,
   "metadata": {
    "id": "pu-6MXHNdNN2"
   },
   "outputs": [],
   "source": [
    "indian_forwards[cols_for_radar].max()"
   ]
  },
  {
   "cell_type": "markdown",
   "metadata": {
    "id": "ABECK_xqa2ei"
   },
   "source": [
    "### Normalized Radar Plot for Chhetri's performance"
   ]
  },
  {
   "cell_type": "code",
   "execution_count": null,
   "metadata": {
    "id": "NGiLiRXtNeBO"
   },
   "outputs": [],
   "source": [
    "fig = px.line_polar(indian_forwards, r=indian_forwards.loc[(indian_forwards[\"id\"] == 19150), cols_for_radar].sum(),\n",
    "                    theta=cols_for_radar, line_close=True)\n",
    "fig.update_traces(fill='toself')\n",
    "fig.show()"
   ]
  },
  {
   "cell_type": "markdown",
   "metadata": {
    "id": "D_wgsy2iPgYk"
   },
   "source": [
    "## The Others\n",
    "\n",
    "Here we try to have a look at other players and compare them with Chhetri"
   ]
  },
  {
   "cell_type": "code",
   "execution_count": null,
   "metadata": {
    "id": "g84YgsaT60n4"
   },
   "outputs": [],
   "source": [
    "indian_forwards[indian_forwards[\"name\"].str.contains(\"Manvir\")]"
   ]
  },
  {
   "cell_type": "code",
   "execution_count": null,
   "metadata": {
    "id": "570Jk5LweXmo"
   },
   "outputs": [],
   "source": [
    "df"
   ]
  },
  {
   "cell_type": "code",
   "execution_count": null,
   "metadata": {
    "id": "kmaWD9ObeS0E"
   },
   "outputs": [],
   "source": [
    "for i, row in indian_forwards.iterrows():\n",
    "    print(\"Index location -->\", i, \"\\n\")\n",
    "    print(row.values, \"\\n\")"
   ]
  },
  {
   "cell_type": "code",
   "execution_count": null,
   "metadata": {
    "id": "F6ZCoLzjnFnN"
   },
   "outputs": [],
   "source": [
    "fig = px.line_polar(indian_forwards, r=indian_forwards.loc[(indian_forwards[\"id\"] == 19150), cols_for_radar].sum(),\n",
    "                    theta=cols_for_radar, line_close=True)\n",
    "fig.update_traces(fill='toself')\n",
    "fig.show()"
   ]
  },
  {
   "cell_type": "code",
   "execution_count": null,
   "metadata": {
    "id": "w7Jlkctj61rm"
   },
   "outputs": [],
   "source": [
    "for i, row in indian_forwards.iterrows():\n",
    "    print(row[\"name\"])\n",
    "    fig = px.line_polar(indian_forwards, r=indian_forwards.loc[(indian_forwards[\"id\"] == row[\"id\"]), cols_for_radar].sum(),\n",
    "                        theta=cols_for_radar, line_close=True,\n",
    "                        title=row[\"name\"])\n",
    "    fig.update_traces(fill='toself')\n",
    "    fig.show()"
   ]
  },
  {
   "cell_type": "markdown",
   "metadata": {
    "id": "gyp3YxpHQSGo"
   },
   "source": [
    "## The Replacement\n",
    "\n",
    "We will use something called as \"Multiple Trace Radar Chart\" to perform comparative analysis."
   ]
  },
  {
   "cell_type": "code",
   "execution_count": null,
   "metadata": {
    "id": "F85FLAbK-LHl"
   },
   "outputs": [],
   "source": [
    "ind_fwds_id_names = indian_forwards.drop_duplicates(subset=[\"id\"])[[\"id\", \"name\"]]"
   ]
  },
  {
   "cell_type": "code",
   "execution_count": null,
   "metadata": {
    "id": "EWQoDUNzKIuy"
   },
   "outputs": [],
   "source": [
    "ind_fwds_id_names.shape"
   ]
  },
  {
   "cell_type": "code",
   "execution_count": null,
   "metadata": {
    "id": "c8zuahfNqoWl"
   },
   "outputs": [],
   "source": [
    "ind_fwds_id_names.head()"
   ]
  },
  {
   "cell_type": "code",
   "execution_count": null,
   "metadata": {
    "id": "QyQEuGoJq5BY"
   },
   "outputs": [],
   "source": [
    "indian_forwards[cols_for_radar].max().max()"
   ]
  },
  {
   "cell_type": "code",
   "execution_count": null,
   "metadata": {
    "id": "zWTLexCvpHQf"
   },
   "outputs": [],
   "source": [
    "isl_max = indian_forwards[cols_for_radar].max().max()"
   ]
  },
  {
   "cell_type": "code",
   "execution_count": null,
   "metadata": {
    "id": "H_cttMN_phTZ"
   },
   "outputs": [],
   "source": [
    "import plotly.graph_objects as go"
   ]
  },
  {
   "cell_type": "code",
   "execution_count": null,
   "metadata": {
    "id": "I3O-ucGdH57w"
   },
   "outputs": [],
   "source": [
    "for i, row in ind_fwds_id_names.iterrows():\n",
    "    if row[\"id\"] == 19150:\n",
    "        continue\n",
    "    print(row[\"name\"])\n",
    "    # Initiate the plotly go figure\n",
    "    fig = go.Figure()\n",
    "    # Add Radar plots for different players:\n",
    "    fig.add_trace(go.Scatterpolar(\n",
    "        r=indian_forwards.loc[(indian_forwards[\"id\"] == 19150), cols_for_radar].sum(),\n",
    "        theta=cols_for_radar,\n",
    "        fill='toself',\n",
    "        name='Sunil Chhetri'))\n",
    "    fig.add_trace(go.Scatterpolar(\n",
    "        r=indian_forwards.loc[(indian_forwards[\"id\"] == row[\"id\"]), cols_for_radar].sum(),\n",
    "        theta=cols_for_radar,\n",
    "        fill='toself',\n",
    "        name=row[\"name\"]))\n",
    "    # Additional properties for the plot:\n",
    "    fig.update_layout(\n",
    "        title=\"Sunil Chhetri vs \" + row[\"name\"],\n",
    "    polar=dict(\n",
    "        radialaxis=dict(\n",
    "        visible=True,\n",
    "        range=[0, isl_max]\n",
    "        )),\n",
    "    showlegend=True\n",
    "    )\n",
    "    fig.show()"
   ]
  },
  {
   "cell_type": "code",
   "execution_count": null,
   "metadata": {
    "id": "ij9HAFSRGiGJ"
   },
   "outputs": [],
   "source": []
  }
 ],
 "metadata": {
  "colab": {
   "collapsed_sections": [],
   "name": "Day 4- Case Study (Indian Football)",
   "provenance": []
  },
  "kernelspec": {
   "display_name": "Python 3 (ipykernel)",
   "language": "python",
   "name": "python3"
  },
  "language_info": {
   "codemirror_mode": {
    "name": "ipython",
    "version": 3
   },
   "file_extension": ".py",
   "mimetype": "text/x-python",
   "name": "python",
   "nbconvert_exporter": "python",
   "pygments_lexer": "ipython3",
   "version": "3.9.13"
  }
 },
 "nbformat": 4,
 "nbformat_minor": 1
}
